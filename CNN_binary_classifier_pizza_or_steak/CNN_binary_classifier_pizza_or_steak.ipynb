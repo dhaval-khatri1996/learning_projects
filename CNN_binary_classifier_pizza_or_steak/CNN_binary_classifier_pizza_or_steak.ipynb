{
  "nbformat": 4,
  "nbformat_minor": 0,
  "metadata": {
    "colab": {
      "provenance": [],
      "gpuType": "T4"
    },
    "kernelspec": {
      "name": "python3",
      "display_name": "Python 3"
    },
    "language_info": {
      "name": "python"
    },
    "accelerator": "GPU"
  },
  "cells": [
    {
      "cell_type": "markdown",
      "source": [
        "# This is a sample project to learn tensorflow. By creting a CNN model to tell if an image is a pizza or a steak.\n"
      ],
      "metadata": {
        "id": "uo55w9JrxxgP"
      }
    },
    {
      "cell_type": "code",
      "source": [
        "#lets start by loading the data into google collab\n",
        "import zipfile\n",
        "\n",
        "# Download zip file of pizza_steak images\n",
        "!wget https://storage.googleapis.com/ztm_tf_course/food_vision/pizza_steak.zip\n",
        "\n",
        "# Unzip the downloaded file\n",
        "zip_ref = zipfile.ZipFile(\"pizza_steak.zip\", \"r\")\n",
        "zip_ref.extractall()\n",
        "zip_ref.close()"
      ],
      "metadata": {
        "id": "Dg0ZNgfoxol9"
      },
      "execution_count": null,
      "outputs": []
    },
    {
      "cell_type": "code",
      "execution_count": null,
      "metadata": {
        "id": "M8YoTDmQvln3"
      },
      "outputs": [],
      "source": [
        "import tensorflow as tf\n",
        "from tensorflow.keras.preprocessing.image import ImageDataGenerator\n",
        "\n",
        "#set the seed\n",
        "tf.random.set_seed(42)\n",
        "\n",
        "#preprocess data (get all of the pixel values between 0 & 1, also called normalization/scaling)\n",
        "train_datagen = ImageDataGenerator(rescale = 1./255)\n",
        "test_datagen = ImageDataGenerator(rescale = 1./255)\n",
        "\n",
        "\n",
        "#setup paths to our data directory\n",
        "train_data_dir = \"/content/pizza_steak/train\"\n",
        "test_data_dir = \"/content/pizza_steak/test\"\n",
        "\n",
        "#Import data from directoris and turn it into batches\n",
        "train_data = train_datagen.flow_from_directory(directory = train_data_dir,\n",
        "                                               batch_size = 32,\n",
        "                                               target_size = (224, 224),\n",
        "                                               class_mode = \"binary\",\n",
        "                                               seed = 42)\n",
        "\n",
        "test_data = test_datagen.flow_from_directory(directory = test_data_dir,\n",
        "                                             batch_size = 32,\n",
        "                                             target_size = (224,224),\n",
        "                                             class_mode = \"binary\",\n",
        "                                             seed = 42)\n",
        "\n",
        "\n",
        "\n",
        "#Build a CNN model\n",
        "model_1_pizza_vs_steak_classifier = tf.keras.models.Sequential([\n",
        "    tf.keras.layers.Conv2D(filters = 10,\n",
        "                           kernel_size = 3,\n",
        "                           activation = \"relu\",\n",
        "                           input_shape = (224, 224, 3)),\n",
        "\n",
        "    tf.keras.layers.Conv2D(filters = 10 ,\n",
        "                          kernel_size = 3,\n",
        "                          activation = \"relu\"),\n",
        "\n",
        "    tf.keras.layers.MaxPool2D(pool_size = 2,\n",
        "                             padding = \"valid\"),\n",
        "\n",
        "    tf.keras.layers.Conv2D(filters = 10 ,\n",
        "                          kernel_size = 3,\n",
        "                          activation = \"relu\"),\n",
        "\n",
        "    tf.keras.layers.Conv2D(filters = 10 ,\n",
        "                          kernel_size = 3,\n",
        "                          activation = \"relu\"),\n",
        "\n",
        "    tf.keras.layers.MaxPool2D(2),\n",
        "    tf.keras.layers.Flatten(),\n",
        "    tf.keras.layers.Dense(1, activation = \"sigmoid\")\n",
        "])\n",
        "\n",
        "\n",
        "#complie our CNN\n",
        "model_1_pizza_vs_steak_classifier.compile(loss = \"binary_crossentropy\",\n",
        "                                          optimizer = tf.keras.optimizers.Adam(),\n",
        "                                          metrics = [\"accuracy\"]),\n",
        "\n",
        "#Fit the model\n",
        "history_1 = model_1_pizza_vs_steak_classifier.fit(train_data,\n",
        "                                                  epochs = 5,\n",
        "                                                  steps_per_epoch = len(train_data),\n",
        "                                                  validation_data = test_data,\n",
        "                                                  validation_steps = len(test_data))\n",
        "\n",
        "\n"
      ]
    }
  ]
}